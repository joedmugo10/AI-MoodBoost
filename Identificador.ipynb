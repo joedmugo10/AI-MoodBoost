{
  "nbformat": 4,
  "nbformat_minor": 0,
  "metadata": {
    "colab": {
      "provenance": [],
      "authorship_tag": "ABX9TyOPnJ/uKcHD/xiPn/UoQZ22",
      "include_colab_link": true
    },
    "kernelspec": {
      "name": "python3",
      "display_name": "Python 3"
    },
    "language_info": {
      "name": "python"
    }
  },
  "cells": [
    {
      "cell_type": "markdown",
      "metadata": {
        "id": "view-in-github",
        "colab_type": "text"
      },
      "source": [
        "<a href=\"https://colab.research.google.com/github/joedmugo10/AI-MoodBoost-prueba/blob/main/Identificador.ipynb\" target=\"_parent\"><img src=\"https://colab.research.google.com/assets/colab-badge.svg\" alt=\"Open In Colab\"/></a>"
      ]
    },
    {
      "cell_type": "code",
      "execution_count": null,
      "metadata": {
        "id": "N4fgY8Nv6wZB"
      },
      "outputs": [],
      "source": [
        "import nltk\n",
        "\n",
        "# Descarga recursos necesarios de NLTK si no los tienes\n",
        "nltk.download(\"punkt\")\n",
        "nltk.download(\"wordnet\")\n",
        "\n",
        "# Lista de palabras relacionadas con la tristeza en minúsculas\n",
        "palabras_tristeza = [\"soledad\", \"desesperación\", \"angustia\", \"tristeza\", \"melancolía\", \"abatimiento\", \"dolor\", \"desánimo\", \"desesperanza\", \"vacío\", \"lágrimas\", \"aislamiento\", \"pesimismo\", \"sufrimiento\", \"agotamiento\", \"oscuridad\", \"inseguridad\", \"desilusión\", \"cansancio\", \"desgaste emocional\", \"perdida\", \"inutilidad\", \"desconexión\", \"anhedonia\", \"ansiedad\", \"incomprensión\", \"autoestima baja\", \"desgana\", \"negatividad\"]\n",
        "\n",
        "# Función para verificar si una oración contiene palabras relacionadas con la tristeza\n",
        "def verificar_tristeza(oracion):\n",
        "    palabras = nltk.word_tokenize(oracion.lower())  # Tokeniza y convierte a minúsculas\n",
        "    for palabra in palabras:\n",
        "        if palabra in palabras_tristeza:\n",
        "            return \"OK\"\n",
        "    return \"No se encontraron palabras relacionadas con la tristeza\"\n",
        "\n",
        "# Ingresa una oración\n",
        "oracion = input(\"Ingresa una oración: \")\n",
        "\n",
        "# Verifica si la oración contiene palabras relacionadas con la tristeza\n",
        "resultado = verificar_tristeza(oracion)\n",
        "print(resultado)"
      ]
    }
  ]
}