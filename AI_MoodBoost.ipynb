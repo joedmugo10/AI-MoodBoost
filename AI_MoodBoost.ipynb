{
  "nbformat": 4,
  "nbformat_minor": 0,
  "metadata": {
    "colab": {
      "provenance": [],
      "authorship_tag": "ABX9TyOmJc3XALiWjVVnXz1m3QLG",
      "include_colab_link": true
    },
    "kernelspec": {
      "name": "python3",
      "display_name": "Python 3"
    },
    "language_info": {
      "name": "python"
    }
  },
  "cells": [
    {
      "cell_type": "markdown",
      "metadata": {
        "id": "view-in-github",
        "colab_type": "text"
      },
      "source": [
        "<a href=\"https://colab.research.google.com/github/joedmugo10/AI-MoodBoost/blob/main/AI_MoodBoost.ipynb\" target=\"_parent\"><img src=\"https://colab.research.google.com/assets/colab-badge.svg\" alt=\"Open In Colab\"/></a>"
      ]
    },
    {
      "cell_type": "code",
      "source": [
        "!pip install transformers\n",
        "import random\n",
        "import nltk\n",
        "import requests\n",
        "from transformers import AutoModelForCausalLM, AutoTokenizer\n",
        "from bs4 import BeautifulSoup\n",
        "\n",
        "# Descarga recursos necesarios de NLTK si no los tienes\n",
        "nltk.download(\"punkt\")\n",
        "\n",
        "# Lista de palabras relacionadas con la tristeza\n",
        "palabras_tristeza = [\"triste\", \"abatido\", \"desanimado\", \"melancólico\", \"desalentado\", \"deprimido\"]\n",
        "\n",
        "# Función para traducir texto usando la API de Traducción de Google\n",
        "def translate_text(text, target_language=\"en\"):\n",
        "    url = \"https://translate.googleapis.com/translate_a/single\"\n",
        "    params = {\n",
        "        \"client\": \"gtx\",\n",
        "        \"sl\": \"auto\",\n",
        "        \"tl\": target_language,\n",
        "        \"dt\": \"t\",\n",
        "        \"q\": text\n",
        "    }\n",
        "\n",
        "    response = requests.get(url, params=params)\n",
        "    translations = response.json()\n",
        "    translated_text = translations[0][0][0]\n",
        "    return translated_text\n",
        "\n",
        "# Función para generar una frase motivacional aleatoria\n",
        "def generar_frase_motivacional():\n",
        "    frases_motivacionales = [\n",
        "        \"El éxito es el resultado de la perseverancia.\",\n",
        "        \"Cree en ti mismo y en tu capacidad para lograr tus metas.\",\n",
        "        \"Cada nuevo día es una oportunidad para crecer y aprender.\",\n",
        "        \"Las dificultades son oportunidades disfrazadas.\",\n",
        "        \"No importa cuántas veces caigas, lo que importa es cuántas veces te levantes.\",\n",
        "        \"El optimismo es la fe que conduce al logro.\",\n",
        "        \"Tú eres dueño de tu destino. Toma el control y crea tu propio camino.\",\n",
        "    ]\n",
        "    return random.choice(frases_motivacionales)\n",
        "\n",
        "# Instancia del tokenizador y el modelo preentrenado DialoGPT-Medium de Microsoft\n",
        "tokenizer = AutoTokenizer.from_pretrained(\"microsoft/DialoGPT-medium\")\n",
        "model = AutoModelForCausalLM.from_pretrained(\"microsoft/DialoGPT-medium\")\n",
        "\n",
        "# Inicializa el historial del chat\n",
        "chat_history_ids = None\n",
        "\n",
        "# Conversación para brindar apoyo emocional y motivacional\n",
        "print(\"¡Hola! Soy tu chatbot de apoyo emocional y motivacional. Puedo ayudarte a lidiar con la tristeza.\")\n",
        "print(\"Si necesitas salir, simplemente escribe 'adiós'.\")\n",
        "\n",
        "while True:\n",
        "    user_input = input(\">> Usuario: \")\n",
        "\n",
        "    # Verifica si el usuario quiere salir\n",
        "    if \"adiós\" in user_input.lower():\n",
        "        print(\"Chatbot: ¡Hasta luego! Espero que tengas un día maravilloso.\")\n",
        "        break\n",
        "\n",
        "    # Traduce la entrada del usuario al inglés\n",
        "    user_input_english = translate_text(user_input, target_language=\"en\")\n",
        "\n",
        "    # Verifica si la entrada del usuario contiene palabras relacionadas con la tristeza\n",
        "    if any(word in user_input.lower() for word in palabras_tristeza):\n",
        "        # Si hay palabras de tristeza, responde con una frase motivacional\n",
        "        print(\"Chatbot: ¡Veo que te sientes triste! Aquí tienes una frase motivacional para ti:\")\n",
        "        print(\"Chatbot:\", generar_frase_motivacional())\n",
        "    else:\n",
        "        # Codifica la nueva entrada del usuario en inglés y agrega el token de fin de secuencia (eos_token)\n",
        "        new_user_input_ids = tokenizer.encode(user_input_english + tokenizer.eos_token, return_tensors='pt')\n",
        "\n",
        "        # Añade los nuevos tokens de entrada del usuario al historial del chat\n",
        "        bot_input_ids = torch.cat([chat_history_ids, new_user_input_ids], dim=-1) if chat_history_ids is not None else new_user_input_ids\n",
        "\n",
        "        # Genera una respuesta en inglés limitando la longitud total del historial del chat a 1000 tokens\n",
        "        chat_history_ids = model.generate(bot_input_ids, max_length=1000, pad_token_id=tokenizer.eos_token_id)\n",
        "\n",
        "        # Decodifica la respuesta en inglés\n",
        "        english_response = tokenizer.decode(chat_history_ids[:, bot_input_ids.shape[-1]:][0], skip_special_tokens=True)\n",
        "\n",
        "        # Traduce la respuesta al español\n",
        "        spanish_response = translate_text(english_response, target_language=\"es\")\n",
        "\n",
        "        # Imprime la respuesta en español\n",
        "        print(\"Chatbot:\", spanish_response)\n"
      ],
      "metadata": {
        "colab": {
          "base_uri": "https://localhost:8080/"
        },
        "id": "wWzlpgaDMXK6",
        "outputId": "a1dafe64-0048-4770-aeb9-3d8ce6645559"
      },
      "execution_count": 7,
      "outputs": [
        {
          "output_type": "stream",
          "name": "stdout",
          "text": [
            "Requirement already satisfied: transformers in /usr/local/lib/python3.10/dist-packages (4.35.0)\n",
            "Requirement already satisfied: filelock in /usr/local/lib/python3.10/dist-packages (from transformers) (3.13.1)\n",
            "Requirement already satisfied: huggingface-hub<1.0,>=0.16.4 in /usr/local/lib/python3.10/dist-packages (from transformers) (0.17.3)\n",
            "Requirement already satisfied: numpy>=1.17 in /usr/local/lib/python3.10/dist-packages (from transformers) (1.23.5)\n",
            "Requirement already satisfied: packaging>=20.0 in /usr/local/lib/python3.10/dist-packages (from transformers) (23.2)\n",
            "Requirement already satisfied: pyyaml>=5.1 in /usr/local/lib/python3.10/dist-packages (from transformers) (6.0.1)\n",
            "Requirement already satisfied: regex!=2019.12.17 in /usr/local/lib/python3.10/dist-packages (from transformers) (2023.6.3)\n",
            "Requirement already satisfied: requests in /usr/local/lib/python3.10/dist-packages (from transformers) (2.31.0)\n",
            "Requirement already satisfied: tokenizers<0.15,>=0.14 in /usr/local/lib/python3.10/dist-packages (from transformers) (0.14.1)\n",
            "Requirement already satisfied: safetensors>=0.3.1 in /usr/local/lib/python3.10/dist-packages (from transformers) (0.4.0)\n",
            "Requirement already satisfied: tqdm>=4.27 in /usr/local/lib/python3.10/dist-packages (from transformers) (4.66.1)\n",
            "Requirement already satisfied: fsspec in /usr/local/lib/python3.10/dist-packages (from huggingface-hub<1.0,>=0.16.4->transformers) (2023.6.0)\n",
            "Requirement already satisfied: typing-extensions>=3.7.4.3 in /usr/local/lib/python3.10/dist-packages (from huggingface-hub<1.0,>=0.16.4->transformers) (4.5.0)\n",
            "Requirement already satisfied: charset-normalizer<4,>=2 in /usr/local/lib/python3.10/dist-packages (from requests->transformers) (3.3.2)\n",
            "Requirement already satisfied: idna<4,>=2.5 in /usr/local/lib/python3.10/dist-packages (from requests->transformers) (3.4)\n",
            "Requirement already satisfied: urllib3<3,>=1.21.1 in /usr/local/lib/python3.10/dist-packages (from requests->transformers) (2.0.7)\n",
            "Requirement already satisfied: certifi>=2017.4.17 in /usr/local/lib/python3.10/dist-packages (from requests->transformers) (2023.7.22)\n"
          ]
        },
        {
          "output_type": "stream",
          "name": "stderr",
          "text": [
            "[nltk_data] Downloading package punkt to /root/nltk_data...\n",
            "[nltk_data]   Package punkt is already up-to-date!\n"
          ]
        },
        {
          "name": "stdout",
          "output_type": "stream",
          "text": [
            "¡Hola! Soy tu chatbot de apoyo emocional y motivacional. Puedo ayudarte a lidiar con la tristeza.\n",
            "Si necesitas salir, simplemente escribe 'adiós'.\n",
            ">> Usuario: me siento mal\n"
          ]
        },
        {
          "output_type": "stream",
          "name": "stderr",
          "text": [
            "A decoder-only architecture is being used, but right-padding was detected! For correct generation results, please set `padding_side='left'` when initializing the tokenizer.\n"
          ]
        },
        {
          "output_type": "stream",
          "name": "stdout",
          "text": [
            "Chatbot: Siento escuchar eso.\n",
            ">> Usuario: me sinto triste\n",
            "Chatbot: ¡Veo que te sientes triste! Aquí tienes una frase motivacional para ti:\n",
            "Chatbot: Cree en ti mismo y en tu capacidad para lograr tus metas.\n",
            ">> Usuario: adiós\n",
            "Chatbot: ¡Hasta luego! Espero que tengas un día maravilloso.\n"
          ]
        }
      ]
    }
  ]
}