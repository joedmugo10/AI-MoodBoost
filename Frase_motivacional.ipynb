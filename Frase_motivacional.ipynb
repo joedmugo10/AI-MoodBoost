{
  "nbformat": 4,
  "nbformat_minor": 0,
  "metadata": {
    "colab": {
      "provenance": [],
      "authorship_tag": "ABX9TyOSubI/B0NPdoPLica9J3on",
      "include_colab_link": true
    },
    "kernelspec": {
      "name": "python3",
      "display_name": "Python 3"
    },
    "language_info": {
      "name": "python"
    }
  },
  "cells": [
    {
      "cell_type": "markdown",
      "metadata": {
        "id": "view-in-github",
        "colab_type": "text"
      },
      "source": [
        "<a href=\"https://colab.research.google.com/github/joedmugo10/AI-MoodBoost-prueba/blob/main/Frase_motivacional.ipynb\" target=\"_parent\"><img src=\"https://colab.research.google.com/assets/colab-badge.svg\" alt=\"Open In Colab\"/></a>"
      ]
    },
    {
      "cell_type": "code",
      "execution_count": null,
      "metadata": {
        "id": "1QUQFHtV6_9g"
      },
      "outputs": [],
      "source": [
        "import random\n",
        "\n",
        "# Lista de frases motivacionales\n",
        "frases_motivacionales = [\n",
        "    \"Cada día es una nueva oportunidad para ser la mejor versión de ti mismo.\",\n",
        "    \"El éxito no es definitivo, el fracaso no es fatal; lo que cuenta es el coraje para continuar.\",\n",
        "    \"Tus desafíos no te definen, pero cómo los enfrentas sí lo hace.\",\n",
        "    \"Las dificultades a menudo preparan a personas comunes para destinos extraordinarios.\",\n",
        "    \"El único modo de hacer un gran trabajo es amar lo que haces.\",\n",
        "    \"El éxito no se logra en un día, se logra día a día.\",\n",
        "    \"La actitud es una pequeña cosa que hace una gran diferencia.\",\n",
        "    \"No importa lo lento que vayas mientras no te detengas.\",\n",
        "    \"Cree en ti mismo y todo será posible.\",\n",
        "    \"Tú eres más fuerte de lo que piensas y más capaz de lo que te imaginas.\",\n",
        "    \"Cada logro comienza con la decisión de intentarlo.\",\n",
        "    \"El mayor riesgo es no correr ningún riesgo. En un mundo que cambia rápidamente, la única estrategia que garantiza el fracaso es no correr ningún riesgo.\",\n",
        "    \"Siempre parece imposible hasta que se hace.\",\n",
        "    \"Las derrotas son temporales; la rendición es permanente.\",\n",
        "    \"El optimismo es la fe que lleva al logro. Nada puede hacerse sin esperanza y confianza.\",\n",
        "    \"Las oportunidades no ocurren. Tú las creas.\",\n",
        "    \"El futuro pertenece a quienes creen en la belleza de sus sueños.\",\n",
        "    \"El camino hacia el éxito y la realización personal está lleno de obstáculos, pero también de oportunidades.\",\n",
        "    \"Nunca subestimes el poder de tus sueños y la influencia que pueden tener en tu realidad.\",\n",
        "    \"No esperes a que las condiciones sean perfectas para avanzar; la acción es la clave para el progreso.\",\n",
        "    \"El éxito es la suma de pequeños esfuerzos repetidos día tras día.\",\n",
        "    \"La única forma de hacer un gran trabajo es amar lo que haces.\",\n",
        "    \"No te preocupes por los fracasos, preocúpate por las posibilidades que pierdes al no intentarlo.\",\n",
        "    \"La verdadera oportunidad para el éxito reside en la persona, no en la posición.\",\n",
        "    \"Las cosas buenas llegan a aquellos que trabajan duro y nunca se rinden.\",\n",
        "    \"El camino hacia el éxito es un viaje que comienza con un solo paso.\",\n",
        "    \"La mente es un arma poderosa; cuando llenas de pensamientos positivos, tu vida comienza a cambiar.\",\n",
        "    \"La diferencia entre una montaña y un montón de piedras está en cómo las escalas.\",\n",
        "    \"Aprovecha al máximo cada día y sé la mejor versión de ti mismo.\",\n",
        "    \"Nunca subestimes el impacto que puedes tener en la vida de otros.\"\n",
        "    # Agrega aquí las frases adicionales\n",
        "]"
      ]
    }
  ]
}